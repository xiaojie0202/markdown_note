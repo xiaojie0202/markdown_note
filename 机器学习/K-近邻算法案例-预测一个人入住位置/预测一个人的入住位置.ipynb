{
 "cells": [
  {
   "cell_type": "code",
   "execution_count": 1,
   "metadata": {},
   "outputs": [
    {
     "data": {
      "text/plain": [
       "'\\n案例分析：\\n    根据用户的位置，定位准确性，时间戳，来预测用户入住位置\\n数据:\\n    ./data/train.csv\\n        row_id:登记事件的ID\\n        x,y    ： 坐标\\n        accuracy ： 定位准确性\\n        time     ：  时间戳\\n        place_id ：入住的位置ID\\n分析：\\n    特征值 ： （x, y, accuracy, time）  目标值(place_id)\\n'"
      ]
     },
     "execution_count": 1,
     "metadata": {},
     "output_type": "execute_result"
    }
   ],
   "source": [
    "\"\"\"\n",
    "案例分析：\n",
    "    根据用户的位置，定位准确性，时间戳，来预测用户入住位置\n",
    "数据:\n",
    "    ./data/train.csv\n",
    "        row_id:登记事件的ID\n",
    "        x,y    ： 坐标\n",
    "        accuracy ： 定位准确性\n",
    "        time     ：  时间戳\n",
    "        place_id ：入住的位置ID\n",
    "分析：\n",
    "    特征值 ： （x, y, accuracy, time）  目标值(place_id)\n",
    "\"\"\""
   ]
  },
  {
   "cell_type": "code",
   "execution_count": 2,
   "metadata": {},
   "outputs": [],
   "source": [
    "from sklearn.preprocessing import StandardScaler  # 标准化\n",
    "from sklearn.neighbors import KNeighborsClassifier # K-近邻算法估计器\n",
    "from sklearn.model_selection import train_test_split # 数据集划分\n",
    "import pandas as pd"
   ]
  },
  {
   "cell_type": "code",
   "execution_count": 3,
   "metadata": {},
   "outputs": [],
   "source": [
    "# 读取csv数据集，进行处理\n",
    "data = pd.read_csv('./data/train.csv', usecols=['x', 'y', 'accuracy', 'time', 'place_id'])"
   ]
  },
  {
   "cell_type": "code",
   "execution_count": 4,
   "metadata": {},
   "outputs": [
    {
     "data": {
      "text/html": [
       "<div>\n",
       "<style scoped>\n",
       "    .dataframe tbody tr th:only-of-type {\n",
       "        vertical-align: middle;\n",
       "    }\n",
       "\n",
       "    .dataframe tbody tr th {\n",
       "        vertical-align: top;\n",
       "    }\n",
       "\n",
       "    .dataframe thead th {\n",
       "        text-align: right;\n",
       "    }\n",
       "</style>\n",
       "<table border=\"1\" class=\"dataframe\">\n",
       "  <thead>\n",
       "    <tr style=\"text-align: right;\">\n",
       "      <th></th>\n",
       "      <th>x</th>\n",
       "      <th>y</th>\n",
       "      <th>accuracy</th>\n",
       "      <th>time</th>\n",
       "      <th>place_id</th>\n",
       "    </tr>\n",
       "  </thead>\n",
       "  <tbody>\n",
       "    <tr>\n",
       "      <th>0</th>\n",
       "      <td>0.7941</td>\n",
       "      <td>9.0809</td>\n",
       "      <td>54</td>\n",
       "      <td>470702</td>\n",
       "      <td>8523065625</td>\n",
       "    </tr>\n",
       "    <tr>\n",
       "      <th>1</th>\n",
       "      <td>5.9567</td>\n",
       "      <td>4.7968</td>\n",
       "      <td>13</td>\n",
       "      <td>186555</td>\n",
       "      <td>1757726713</td>\n",
       "    </tr>\n",
       "    <tr>\n",
       "      <th>2</th>\n",
       "      <td>8.3078</td>\n",
       "      <td>7.0407</td>\n",
       "      <td>74</td>\n",
       "      <td>322648</td>\n",
       "      <td>1137537235</td>\n",
       "    </tr>\n",
       "    <tr>\n",
       "      <th>3</th>\n",
       "      <td>7.3665</td>\n",
       "      <td>2.5165</td>\n",
       "      <td>65</td>\n",
       "      <td>704587</td>\n",
       "      <td>6567393236</td>\n",
       "    </tr>\n",
       "    <tr>\n",
       "      <th>4</th>\n",
       "      <td>4.0961</td>\n",
       "      <td>1.1307</td>\n",
       "      <td>31</td>\n",
       "      <td>472130</td>\n",
       "      <td>7440663949</td>\n",
       "    </tr>\n",
       "    <tr>\n",
       "      <th>5</th>\n",
       "      <td>3.8099</td>\n",
       "      <td>1.9586</td>\n",
       "      <td>75</td>\n",
       "      <td>178065</td>\n",
       "      <td>6289802927</td>\n",
       "    </tr>\n",
       "    <tr>\n",
       "      <th>6</th>\n",
       "      <td>6.3336</td>\n",
       "      <td>4.3720</td>\n",
       "      <td>13</td>\n",
       "      <td>666829</td>\n",
       "      <td>9931249544</td>\n",
       "    </tr>\n",
       "    <tr>\n",
       "      <th>7</th>\n",
       "      <td>5.7409</td>\n",
       "      <td>6.7697</td>\n",
       "      <td>85</td>\n",
       "      <td>369002</td>\n",
       "      <td>5662813655</td>\n",
       "    </tr>\n",
       "    <tr>\n",
       "      <th>8</th>\n",
       "      <td>4.3114</td>\n",
       "      <td>6.9410</td>\n",
       "      <td>3</td>\n",
       "      <td>166384</td>\n",
       "      <td>8471780938</td>\n",
       "    </tr>\n",
       "    <tr>\n",
       "      <th>9</th>\n",
       "      <td>6.3414</td>\n",
       "      <td>0.0758</td>\n",
       "      <td>65</td>\n",
       "      <td>400060</td>\n",
       "      <td>1253803156</td>\n",
       "    </tr>\n",
       "  </tbody>\n",
       "</table>\n",
       "</div>"
      ],
      "text/plain": [
       "        x       y  accuracy    time    place_id\n",
       "0  0.7941  9.0809        54  470702  8523065625\n",
       "1  5.9567  4.7968        13  186555  1757726713\n",
       "2  8.3078  7.0407        74  322648  1137537235\n",
       "3  7.3665  2.5165        65  704587  6567393236\n",
       "4  4.0961  1.1307        31  472130  7440663949\n",
       "5  3.8099  1.9586        75  178065  6289802927\n",
       "6  6.3336  4.3720        13  666829  9931249544\n",
       "7  5.7409  6.7697        85  369002  5662813655\n",
       "8  4.3114  6.9410         3  166384  8471780938\n",
       "9  6.3414  0.0758        65  400060  1253803156"
      ]
     },
     "execution_count": 4,
     "metadata": {},
     "output_type": "execute_result"
    }
   ],
   "source": [
    "data.head(10)"
   ]
  },
  {
   "cell_type": "code",
   "execution_count": 5,
   "metadata": {},
   "outputs": [],
   "source": [
    "# 目标值\n",
    "x = data['place_id']\n",
    "# 特征值\n",
    "y = data.drop(['place_id'],axis=1)"
   ]
  },
  {
   "cell_type": "code",
   "execution_count": 6,
   "metadata": {},
   "outputs": [],
   "source": [
    "# 进行数据集划分\n",
    "x_train, x_test, y_train, y_test = train_test_split(y, x, test_size=0.25)"
   ]
  },
  {
   "cell_type": "code",
   "execution_count": 7,
   "metadata": {},
   "outputs": [],
   "source": [
    "std = StandardScaler()\n",
    "x_train = std.fit_transform(x_train) # 训练集的特征值做标准化\n",
    "x_test = std.transform(x_test) # 测试集的特征值做标准版"
   ]
  },
  {
   "cell_type": "code",
   "execution_count": 8,
   "metadata": {},
   "outputs": [],
   "source": [
    "# 进行训练算法\n",
    "knn = KNeighborsClassifier(n_neighbors=5)"
   ]
  },
  {
   "cell_type": "code",
   "execution_count": null,
   "metadata": {},
   "outputs": [],
   "source": [
    "knn.fit(x_train, y_train) # 把数据输入到算法中"
   ]
  },
  {
   "cell_type": "code",
   "execution_count": null,
   "metadata": {},
   "outputs": [],
   "source": [
    "# 预测结果\n",
    "y_predict = knn.predict()"
   ]
  },
  {
   "cell_type": "code",
   "execution_count": null,
   "metadata": {},
   "outputs": [],
   "source": [
    "y_predict"
   ]
  }
 ],
 "metadata": {
  "kernelspec": {
   "display_name": "Python 3",
   "language": "python",
   "name": "python3"
  },
  "language_info": {
   "codemirror_mode": {
    "name": "ipython",
    "version": 3
   },
   "file_extension": ".py",
   "mimetype": "text/x-python",
   "name": "python",
   "nbconvert_exporter": "python",
   "pygments_lexer": "ipython3",
   "version": "3.6.5"
  }
 },
 "nbformat": 4,
 "nbformat_minor": 1
}
